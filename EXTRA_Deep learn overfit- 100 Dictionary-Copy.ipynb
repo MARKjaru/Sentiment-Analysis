{
 "cells": [
  {
   "cell_type": "markdown",
   "metadata": {},
   "source": [
    "# Handling Overfitting"
   ]
  },
  {
   "cell_type": "code",
   "execution_count": 1,
   "metadata": {},
   "outputs": [],
   "source": [
    "# Handling overfitting in deep learning models\n",
    "# SOURCE: Towards Data Science\n",
    "# https://towardsdatascience.com/handling-overfitting-in-deep-learning-models-c760ee047c6e\n",
    "\n",
    "# import sys\n",
    "# !conda install --yes --prefix {sys.prefix} keras"
   ]
  },
  {
   "cell_type": "code",
   "execution_count": 2,
   "metadata": {},
   "outputs": [],
   "source": [
    "# deep learning models with overfitting\n",
    "import pandas as pd\n",
    "import numpy as np\n",
    "import re\n",
    "import collections\n",
    "import matplotlib.pyplot as plt\n",
    "from pathlib import Path"
   ]
  },
  {
   "cell_type": "code",
   "execution_count": 3,
   "metadata": {},
   "outputs": [
    {
     "name": "stderr",
     "output_type": "stream",
     "text": [
      "[nltk_data] Downloading package stopwords to\n",
      "[nltk_data]     C:\\Users\\myjar\\AppData\\Roaming\\nltk_data...\n",
      "[nltk_data]   Package stopwords is already up-to-date!\n"
     ]
    },
    {
     "data": {
      "text/plain": [
       "True"
      ]
     },
     "execution_count": 3,
     "metadata": {},
     "output_type": "execute_result"
    }
   ],
   "source": [
    "import nltk\n",
    "nltk.download('stopwords')"
   ]
  },
  {
   "cell_type": "code",
   "execution_count": 4,
   "metadata": {},
   "outputs": [
    {
     "name": "stderr",
     "output_type": "stream",
     "text": [
      "Using TensorFlow backend.\n"
     ]
    }
   ],
   "source": [
    "# packages for modelling\n",
    "from keras import models\n",
    "from keras import layers\n",
    "from keras import regularizers\n",
    "\n",
    "# packages for data preparation\n",
    "from sklearn.model_selection import train_test_split\n",
    "from nltk.corpus import stopwords\n",
    "from keras.preprocessing.text import Tokenizer\n",
    "from keras.utils.np_utils import to_categorical\n",
    "from sklearn.preprocessing import LabelEncoder"
   ]
  },
  {
   "cell_type": "code",
   "execution_count": 5,
   "metadata": {},
   "outputs": [],
   "source": [
    "# Parameter indicating the number of words for the dictionary\n",
    "NB_WORDS = 100\n",
    "\n",
    "# Number of Epochs we usually start to train with\n",
    "NB_START_EPOCHS = 20\n",
    "\n",
    "# Size of batches used in the mini-batch gradient descent\n",
    "BATCH_SIZE = 512\n",
    "\n",
    "# maximum number of words in a sequence\n",
    "MAX_LEN = 20\n",
    "\n",
    "root = Path('../')\n",
    "input_path = root / 'input/'\n",
    "output_path = root / 'output/'\n",
    "source_path = root / 'source/'"
   ]
  },
  {
   "cell_type": "markdown",
   "metadata": {},
   "source": [
    "# Helper functions"
   ]
  },
  {
   "cell_type": "code",
   "execution_count": 6,
   "metadata": {},
   "outputs": [],
   "source": [
    "def deep_model(model, X_train, y_train, X_valid, y_valid):\n",
    "    '''\n",
    "    Function to train a multi-class mode.  The number of epochs and \n",
    "    batch_size are set by the constants at the top of the notebook.\n",
    "    \n",
    "    Parameters:\n",
    "        model : model with the chosen architecutre\n",
    "        X_train : training features\n",
    "        y_train : training target\n",
    "        X_valid : validation features\n",
    "        y_valid : validation target\n",
    "    Output:\n",
    "        model training history\n",
    "    '''\n",
    "    model.compile(optimizer='rmsprop',\n",
    "                  loss = 'categorical_crossentropy',\n",
    "                  metrics = ['accuracy']\n",
    "                 )\n",
    "    history = model.fit(X_train,\n",
    "                       y_train,\n",
    "                       epochs = NB_START_EPOCHS,\n",
    "                       batch_size = BATCH_SIZE,\n",
    "                       validation_data = (X_valid, y_valid),\n",
    "                       verbose = 0\n",
    "                       )\n",
    "    return history\n",
    "\n",
    "def eval_metric(model, history, metric_name):\n",
    "    '''\n",
    "    Function to evaluate a trained model on a chosen metric.\n",
    "    Training and validation metric are plotted in a \n",
    "    line chart for each epoch\n",
    "    \n",
    "    Parameters:\n",
    "        history : model training history\n",
    "        metric_name : loss or accuracy\n",
    "        \n",
    "    Output:\n",
    "        line chart with epochs of x-axis and metric on\n",
    "        y-axis\n",
    "    '''\n",
    "    metric = history.history[metric_name]\n",
    "    val_metric = history.history['val_' + metric_name]\n",
    "    \n",
    "    e = range(1, NB_START_EPOCHS + 1)\n",
    "    \n",
    "    plt.plot(e, metric, 'bo', label = 'Train ' + metric_name)\n",
    "    plt.plot(e, val_metric, 'b', label = 'Validation ' + metric_name)\n",
    "    plt.xlabel('Epoch number')\n",
    "    plt.ylabel(metric_name)\n",
    "    plt.title('Comparing training and validation ' + metric_name + \\\n",
    "              ' for ' + model.name)\n",
    "    plt.legend()\n",
    "    plt.show()\n",
    "    \n",
    "def test_model(model, X_train, y_train, X_test, y_test, epoch_stop):\n",
    "    '''\n",
    "    Function to test the model on new data after training it\n",
    "    on the full training data with the optimal number of epochs\n",
    "    \n",
    "    Parameters:\n",
    "        model : trained model\n",
    "        X_train : training features\n",
    "        y_train : training target\n",
    "        X_test : test features\n",
    "        y_test : test target\n",
    "        epochs : optimal number of epochs\n",
    "    Output:\n",
    "        test accuracy and test loss\n",
    "    '''\n",
    "    model.fit(X_train,\n",
    "             y_train,\n",
    "             epochs = epoch_stop,\n",
    "             batch_size = BATCH_SIZE,\n",
    "             verbose = 0\n",
    "             )\n",
    "    \n",
    "    results = model.evaluate(X_test, y_test)\n",
    "    print()\n",
    "    print('Test accuracy: {0:.2f}%'.format(results[1]*100))\n",
    "    return results\n",
    "\n",
    "def remove_stopwords(input_text):\n",
    "    '''\n",
    "    Function to remove English stopwords from a Pandas series.\n",
    "    \n",
    "    Parameters:\n",
    "        input_text : text to clean\n",
    "    Output:\n",
    "        cleaned Pandas Series\n",
    "    '''\n",
    "    stopwords_list = stopwords.words('english')\n",
    "    # some words which might indicate a certain sentiment are kept\n",
    "    #   via a white list\n",
    "    whitelist =[\"n't\", \"not\", \"no\"]\n",
    "    words = input_text.split()\n",
    "    clean_words = [\n",
    "        word for word in words if (\n",
    "            word not in stopwords_list or word in whitelist\n",
    "        ) and len(word) > 1\n",
    "    ]\n",
    "    return \" \".join(clean_words)\n",
    "\n",
    "def remove_mentions(input_text):\n",
    "    '''\n",
    "    Function to remove mentions, preceted by @, in a Pandas series.\n",
    "    \n",
    "    Parameters:\n",
    "        input_text : text to clean\n",
    "    Output:\n",
    "        cleaned Pandas Series\n",
    "    '''\n",
    "    return re.sub(r'@\\w+', '', input_text)\n",
    "\n",
    "def compare_models_by_metric(\n",
    "    model_1, \n",
    "    model_2, \n",
    "    model_hist_1,\n",
    "    model_hist_2,\n",
    "    metric\n",
    "):\n",
    "    '''\n",
    "    Function to compare a metric between two models\n",
    "    \n",
    "    Parameters:\n",
    "        model_hist_1 : training history of model 1\n",
    "        model_hist_2 : training history of model 2\n",
    "        metric : metric to compare, loss, acc, val_loss or val_acc\n",
    "        \n",
    "    Output:\n",
    "        plot of metrics of both models\n",
    "    '''\n",
    "    metric_model_1 = model_hist_1.history[metric]\n",
    "    metric_model_2 = model_hist_2.history[metric]\n",
    "    \n",
    "    e = range(1, NB_START_EPOCHS +1)\n",
    "    \n",
    "    metrics_dict = {\n",
    "        'acc' : 'Training Accuracy',\n",
    "        'loss' : 'Training Loss',\n",
    "        'val_acc' : 'Validation accuracy',\n",
    "        'val_loss' : 'Validation loss'\n",
    "    }\n",
    "    \n",
    "    metric_label = metrics_dict[metric]\n",
    "    \n",
    "    plt.plot(e, metric_model_1, 'bo', label = model_1.name)\n",
    "    plt.plot(e, metric_model_2, 'b', label = model_2.name)\n",
    "    plt.xlabel('Epoch number')\n",
    "    plt.ylabel(metric_label)\n",
    "    plt.title('Comparing ' + metric_label + ' between models')\n",
    "    plt.legend()\n",
    "    plt.show()\n",
    "    \n",
    "def optimal_epoch(model_hist):\n",
    "    '''\n",
    "    Function to return the epoch number where the validation loss is\n",
    "    at its minimum\n",
    "    \n",
    "    Parameters:\n",
    "        model_hist : training history of model\n",
    "        \n",
    "    Output:\n",
    "        epoch number with minimum validation loss\n",
    "    '''\n",
    "    min_epoch = np.argmin(model_hist.history['val_loss']) + 1\n",
    "    print(\n",
    "        \"Minimum validation loss reached in epoch \\\n",
    "        {}\".format(min_epoch)\n",
    "    )\n",
    "    return min_epoch"
   ]
  },
  {
   "cell_type": "markdown",
   "metadata": {},
   "source": [
    "# Data Preparation"
   ]
  },
  {
   "cell_type": "code",
   "execution_count": 7,
   "metadata": {},
   "outputs": [],
   "source": [
    "#### Load CSV with tweets, perform a random shuffle\n",
    "#  *** good practice to shuffle data before splitting between a train\n",
    "#  and test set.\n",
    "\n",
    "# initially keep only *text* column as input and *airline_sentiment*\n",
    "#   column as the target\n",
    "\n",
    "# Then remove *stopwords* as they don't have any value in predicting\n",
    "#   sentiment.  Further clean the data by removing mentions"
   ]
  },
  {
   "cell_type": "code",
   "execution_count": 8,
   "metadata": {
    "scrolled": true
   },
   "outputs": [],
   "source": [
    "df = pd.read_csv(input_path / 'Tweets.csv', encoding = \"ISO-8859-1\")\n",
    "df = df.reindex(np.random.permutation(df.index))\n",
    "df = df[['text', 'airline_sentiment']]\n",
    "df.text = df.text.apply(remove_stopwords).apply(remove_mentions)"
   ]
  },
  {
   "cell_type": "markdown",
   "metadata": {},
   "source": [
    "# Train-test split"
   ]
  },
  {
   "cell_type": "code",
   "execution_count": 9,
   "metadata": {},
   "outputs": [],
   "source": [
    "# evaluate the model on a separate test set\n",
    "X_train, X_test, y_train, y_test = train_test_split(\n",
    "    df.text,\n",
    "    df.airline_sentiment,\n",
    "    test_size = 0.1,\n",
    "    random_state = 37\n",
    ")"
   ]
  },
  {
   "cell_type": "markdown",
   "metadata": {},
   "source": [
    "# Converting words to numbers"
   ]
  },
  {
   "cell_type": "code",
   "execution_count": 10,
   "metadata": {},
   "outputs": [],
   "source": [
    "# need to first convert the words into tokens\n",
    "#  a TOKEN is simply converting words to integers that refer to an \n",
    "#  index in a dictionary.\n",
    "\n",
    "# simplify by keeping only the most frequent words in the training set\n",
    "\n",
    "# clearn up by applying *filters* and putting the words to *lowercase*\n",
    "#  Words are separated by spaces"
   ]
  },
  {
   "cell_type": "code",
   "execution_count": 11,
   "metadata": {},
   "outputs": [],
   "source": [
    "tk = Tokenizer(\n",
    "    num_words = NB_WORDS,\n",
    "    filters = '!\"#$%&()*+,-./:;<=>?@[\\\\]^_`{\"}~\\t\\n',\n",
    "    lower = True,\n",
    "    char_level = False,\n",
    "    split = ' '\n",
    ")\n",
    "tk.fit_on_texts(X_train)"
   ]
  },
  {
   "cell_type": "code",
   "execution_count": 12,
   "metadata": {},
   "outputs": [],
   "source": [
    "# after creating dictionary tk, we can convert the text of a tweet\n",
    "#  to a vector with NB_WORDS values.\n",
    "\n",
    "# with *mode=binary*, it contains an indicator whether the word \n",
    "#   appeared in the tweet or not.  This is done with the \n",
    "#   *texts_to_matrix* method of the Tokenizer"
   ]
  },
  {
   "cell_type": "code",
   "execution_count": 13,
   "metadata": {},
   "outputs": [],
   "source": [
    "X_train_oh = tk.texts_to_matrix(X_train, mode = 'binary')\n",
    "X_test_oh = tk.texts_to_matrix(X_test, mode = 'binary')"
   ]
  },
  {
   "cell_type": "markdown",
   "metadata": {},
   "source": [
    "# Converting the target classes to numbers"
   ]
  },
  {
   "cell_type": "code",
   "execution_count": 14,
   "metadata": {},
   "outputs": [],
   "source": [
    "# need to convert the target classes to numbers as well\n",
    "#  Encode using the *to_categorical* method in Keras"
   ]
  },
  {
   "cell_type": "code",
   "execution_count": 15,
   "metadata": {},
   "outputs": [],
   "source": [
    "le = LabelEncoder()\n",
    "y_train_le = le.fit_transform(y_train)\n",
    "y_test_le = le.fit_transform(y_test)\n",
    "y_train_oh = to_categorical(y_train_le)\n",
    "y_test_oh = to_categorical(y_test_le)"
   ]
  },
  {
   "cell_type": "markdown",
   "metadata": {},
   "source": [
    "# Splitting off a validation set"
   ]
  },
  {
   "cell_type": "code",
   "execution_count": 16,
   "metadata": {},
   "outputs": [],
   "source": [
    "X_train_rest, X_valid, y_train_rest, y_valid = train_test_split(\n",
    "        X_train_oh,\n",
    "        y_train_oh,\n",
    "        test_size = 0.1,\n",
    "        random_state = 37\n",
    "    )"
   ]
  },
  {
   "cell_type": "markdown",
   "metadata": {},
   "source": [
    "# Deep learning"
   ]
  },
  {
   "cell_type": "code",
   "execution_count": 17,
   "metadata": {},
   "outputs": [],
   "source": [
    "# start with OVERFITTING MODEL\n",
    "#  2 densely connected layers of 64 elements\n",
    "#  input_shape for the 1st layer is equal to number of words in the\n",
    "#  dictionary\n",
    "\n",
    "# First layer : (10000 x 64) + 64 = 640064\n",
    "# Second layer : (64 x 64) + 64 = 4160\n",
    "# Last layer : (64 x 3) + 3 = 195"
   ]
  },
  {
   "cell_type": "code",
   "execution_count": 18,
   "metadata": {},
   "outputs": [],
   "source": [
    "base_model = models.Sequential()\n",
    "base_model.add(layers.Dense(\n",
    "    64,\n",
    "    activation = 'relu',\n",
    "    input_shape = (NB_WORDS,)\n",
    "))\n",
    "base_model.add(layers.Dense(\n",
    "    64,\n",
    "    activation = 'relu'\n",
    "))\n",
    "base_model.add(layers.Dense(\n",
    "    3,\n",
    "    activation = 'softmax'\n",
    "))\n",
    "base_model.name = 'Baseline model'"
   ]
  },
  {
   "cell_type": "code",
   "execution_count": 19,
   "metadata": {},
   "outputs": [
    {
     "name": "stdout",
     "output_type": "stream",
     "text": [
      "Minimum validation loss reached in epoch         13\n"
     ]
    },
    {
     "data": {
      "image/png": "[encoded data removed]",
      "text/plain": [
       "<Figure size 432x288 with 1 Axes>"
      ]
     },
     "metadata": {
      "needs_background": "light"
     },
     "output_type": "display_data"
    }
   ],
   "source": [
    "'''Because this project is a multi-class, single-label prediction, we use\n",
    "categorical_crossentropy as the loss function and softmax as the final\n",
    "activation function. We fit the model on the train data and validate on the validation\n",
    "set. We run for a predetermined number of epochs and will see when the model starts\n",
    "to overfit.\n",
    "'''\n",
    "base_history = deep_model(\n",
    "    base_model,\n",
    "    X_train_rest,\n",
    "    y_train_rest,\n",
    "    X_valid,\n",
    "    y_valid\n",
    ")\n",
    "base_min = optimal_epoch(base_history)\n",
    "eval_metric(base_model, base_history, 'loss')"
   ]
  },
  {
   "cell_type": "markdown",
   "metadata": {},
   "source": [
    "# Handling OVERFITTING"
   ]
  },
  {
   "cell_type": "code",
   "execution_count": 20,
   "metadata": {},
   "outputs": [
    {
     "data": {
      "text/plain": [
       "\"\\n3 options to reduce overfitting\\n1. Reduce network's capacity by removing layers or reducing the number \\nof elements in the hidden layers\\n2. Apply regularization, which comes down to adding a cost to the loss \\nfunction for large weights\\n3. Use dropout layers, which will randomly remove certain features by\\nsetting them to zero\\n\""
      ]
     },
     "execution_count": 20,
     "metadata": {},
     "output_type": "execute_result"
    }
   ],
   "source": [
    "'''\n",
    "3 options to reduce overfitting\n",
    "1. Reduce network's capacity by removing layers or reducing the number \n",
    "of elements in the hidden layers\n",
    "2. Apply regularization, which comes down to adding a cost to the loss \n",
    "function for large weights\n",
    "3. Use dropout layers, which will randomly remove certain features by\n",
    "setting them to zero\n",
    "'''"
   ]
  },
  {
   "cell_type": "markdown",
   "metadata": {},
   "source": [
    "## Reduce network's capacity"
   ]
  },
  {
   "cell_type": "code",
   "execution_count": 21,
   "metadata": {},
   "outputs": [
    {
     "name": "stdout",
     "output_type": "stream",
     "text": [
      "Minimum validation loss reached in epoch         20\n"
     ]
    },
    {
     "data": {
      "image/png": "[encoded data removed]",
      "text/plain": [
       "<Figure size 432x288 with 1 Axes>"
      ]
     },
     "metadata": {
      "needs_background": "light"
     },
     "output_type": "display_data"
    }
   ],
   "source": [
    "'''\n",
    "Reducing the network capacity TOO MUCH will result in UNDERFITTING.\n",
    "The model will not be able to learn the relevant patters in the train\n",
    "data.\n",
    "Reduce the capacity by removing one hidden layer and lowering the\n",
    "number of elements in the remaining layer to 16\n",
    "'''\n",
    "reduced_model = models.Sequential()\n",
    "reduced_model.add(layers.Dense(\n",
    "    16,\n",
    "    activation = 'relu', # 1 of 1 layers\n",
    "    input_shape = (NB_WORDS,)\n",
    "))\n",
    "reduced_model.add(layers.Dense(\n",
    "    3,\n",
    "    activation = 'softmax' # brings last output later to percentage\n",
    "))\n",
    "reduced_model.name = 'Reduced model'\n",
    "\n",
    "reduced_history = deep_model(\n",
    "    reduced_model,\n",
    "    X_train_rest,\n",
    "    y_train_rest,\n",
    "    X_valid,\n",
    "    y_valid\n",
    ")\n",
    "reduced_min = optimal_epoch(reduced_history)\n",
    "eval_metric(reduced_model, reduced_history, 'loss')"
   ]
  },
  {
   "cell_type": "code",
   "execution_count": 22,
   "metadata": {},
   "outputs": [
    {
     "data": {
      "image/png": "[encoded data removed]",
      "text/plain": [
       "<Figure size 432x288 with 1 Axes>"
      ]
     },
     "metadata": {
      "needs_background": "light"
     },
     "output_type": "display_data"
    }
   ],
   "source": [
    "# Compre models\n",
    "compare_models_by_metric(\n",
    "    base_model, \n",
    "    reduced_model,\n",
    "    base_history,\n",
    "    reduced_history,\n",
    "    'val_loss'\n",
    ")"
   ]
  },
  {
   "cell_type": "code",
   "execution_count": 23,
   "metadata": {},
   "outputs": [],
   "source": [
    "# validation loss stays lower much longer than baseline model"
   ]
  },
  {
   "cell_type": "markdown",
   "metadata": {},
   "source": [
    "## Applying regularization"
   ]
  },
  {
   "cell_type": "code",
   "execution_count": 24,
   "metadata": {
    "scrolled": true
   },
   "outputs": [
    {
     "data": {
      "text/plain": [
       "'\\nTo address overfitting, we can apply weight regularization to the \\nmodel.  This will add a cost to the loss function of the network\\nfor large weights (or parameter values).  As a result you get a \\nsimpler model taht will be forced to learn only the relevant \\npatterns in the train data.\\n\\nThere are L1 regularization and L2 regularization\\n* L1 regularization will add a cost with regards to the absolute value \\n  of the parameters. It will result in some of the weights to be equal \\n  to zero.\\n  \\n* L2 regularization will add a cost with regards to the squared value of \\n  the parameters. This results in smaller weights.\\n\\n'"
      ]
     },
     "execution_count": 24,
     "metadata": {},
     "output_type": "execute_result"
    }
   ],
   "source": [
    "'''\n",
    "To address overfitting, we can apply weight regularization to the \n",
    "model.  This will add a cost to the loss function of the network\n",
    "for large weights (or parameter values).  As a result you get a \n",
    "simpler model taht will be forced to learn only the relevant \n",
    "patterns in the train data.\n",
    "\n",
    "There are L1 regularization and L2 regularization\n",
    "* L1 regularization will add a cost with regards to the absolute value \n",
    "  of the parameters. It will result in some of the weights to be equal \n",
    "  to zero.\n",
    "  \n",
    "* L2 regularization will add a cost with regards to the squared value of \n",
    "  the parameters. This results in smaller weights.\n",
    "\n",
    "'''"
   ]
  },
  {
   "cell_type": "code",
   "execution_count": 25,
   "metadata": {},
   "outputs": [
    {
     "name": "stdout",
     "output_type": "stream",
     "text": [
      "Minimum validation loss reached in epoch         19\n"
     ]
    },
    {
     "data": {
      "image/png": "[encoded data removed]",
      "text/plain": [
       "<Figure size 432x288 with 1 Axes>"
      ]
     },
     "metadata": {
      "needs_background": "light"
     },
     "output_type": "display_data"
    }
   ],
   "source": [
    "# start with L2 regularization\n",
    "reg_model = models.Sequential()\n",
    "reg_model.add(layers.Dense(\n",
    "    64,\n",
    "    kernel_regularizer = regularizers.l2(0.001),\n",
    "    activation = 'relu',\n",
    "    input_shape = (NB_WORDS,)\n",
    "))\n",
    "reg_model.add(layers.Dense(\n",
    "    64,\n",
    "    kernel_regularizer = regularizers.l2(0.001),\n",
    "    activation = 'relu'\n",
    "))\n",
    "reg_model.add(layers.Dense(\n",
    "    3,\n",
    "    activation = 'softmax'\n",
    "))\n",
    "reg_model.name = 'L2 Regularization Model'\n",
    "\n",
    "reg_history = deep_model(\n",
    "    reg_model,\n",
    "    X_train_rest,\n",
    "    y_train_rest,\n",
    "    X_valid,\n",
    "    y_valid\n",
    ")\n",
    "reg_min = optimal_epoch(reg_history)\n",
    "eval_metric(reg_model, reg_history, 'loss')"
   ]
  },
  {
   "cell_type": "code",
   "execution_count": 26,
   "metadata": {},
   "outputs": [
    {
     "data": {
      "image/png": "[encoded data removed]",
      "text/plain": [
       "<Figure size 432x288 with 1 Axes>"
      ]
     },
     "metadata": {
      "needs_background": "light"
     },
     "output_type": "display_data"
    }
   ],
   "source": [
    "compare_models_by_metric(\n",
    "    base_model, \n",
    "    reg_model,\n",
    "    base_history,\n",
    "    reg_history,\n",
    "    'val_loss'\n",
    ")"
   ]
  },
  {
   "cell_type": "markdown",
   "metadata": {},
   "source": [
    "## Adding dropout layers"
   ]
  },
  {
   "cell_type": "code",
   "execution_count": 27,
   "metadata": {},
   "outputs": [
    {
     "name": "stdout",
     "output_type": "stream",
     "text": [
      "Minimum validation loss reached in epoch         20\n"
     ]
    },
    {
     "data": {
      "image/png": "[encoded data removed]",
      "text/plain": [
       "<Figure size 432x288 with 1 Axes>"
      ]
     },
     "metadata": {
      "needs_background": "light"
     },
     "output_type": "display_data"
    }
   ],
   "source": [
    "# add dropout layers - which randomly set output features\n",
    "#  of a layer to zero\n",
    "drop_model = models.Sequential()\n",
    "drop_model.add(layers.Dense(\n",
    "    64,\n",
    "    activation = 'relu',\n",
    "    input_shape = (NB_WORDS,)\n",
    "))\n",
    "drop_model.add(layers.Dropout(0.5))\n",
    "drop_model.add(layers.Dense(\n",
    "    64,\n",
    "    activation = 'relu'\n",
    "))\n",
    "drop_model.add(layers.Dropout(0.5))\n",
    "drop_model.add(layers.Dense(\n",
    "    3,\n",
    "    activation = 'softmax'\n",
    "))\n",
    "drop_model.name = 'Dropout layers model'\n",
    "\n",
    "drop_history = deep_model(\n",
    "    drop_model,\n",
    "    X_train_rest,\n",
    "    y_train_rest,\n",
    "    X_valid,\n",
    "    y_valid\n",
    ")\n",
    "drop_min = optimal_epoch(drop_history)\n",
    "\n",
    "eval_metric(drop_model, drop_history, 'loss')"
   ]
  },
  {
   "cell_type": "code",
   "execution_count": 28,
   "metadata": {},
   "outputs": [
    {
     "data": {
      "image/png": "[encoded data removed]",
      "text/plain": [
       "<Figure size 432x288 with 1 Axes>"
      ]
     },
     "metadata": {
      "needs_background": "light"
     },
     "output_type": "display_data"
    }
   ],
   "source": [
    "# model with dropout layers starts overfitting later than the \n",
    "#  baseline model.  THe loss also increases slower than \n",
    "#  baseline model.\n",
    "compare_models_by_metric(\n",
    "    base_model,\n",
    "    drop_model,\n",
    "    base_history,\n",
    "    drop_history,\n",
    "    'val_loss'\n",
    ")"
   ]
  },
  {
   "cell_type": "code",
   "execution_count": 29,
   "metadata": {},
   "outputs": [],
   "source": [
    "# the model with the Dropout layers starts overfitting later.\n",
    "#  compared with the baseline model, the loss also remains lower."
   ]
  },
  {
   "cell_type": "markdown",
   "metadata": {},
   "source": [
    "# Training on the full train data and evaluation on test data"
   ]
  },
  {
   "cell_type": "code",
   "execution_count": 30,
   "metadata": {},
   "outputs": [
    {
     "name": "stdout",
     "output_type": "stream",
     "text": [
      "1464/1464 [==============================] - 0s 18us/step\n",
      "\n",
      "Test accuracy: 71.79%\n",
      "1464/1464 [==============================] - 0s 18us/step\n",
      "\n",
      "Test accuracy: 71.11%\n",
      "1464/1464 [==============================] - 0s 18us/step\n",
      "\n",
      "Test accuracy: 71.58%\n",
      "1464/1464 [==============================] - 0s 19us/step\n",
      "\n",
      "Test accuracy: 71.86%\n"
     ]
    }
   ],
   "source": [
    "# The Reduced model seems to be the best.  Confirm with test set.\n",
    "base_results = test_model(\n",
    "    base_model,\n",
    "    X_train_oh,\n",
    "    y_train_oh,\n",
    "    X_test_oh,\n",
    "    y_test_oh,\n",
    "    base_min\n",
    ")\n",
    "reduced_results = test_model(\n",
    "    reduced_model,\n",
    "    X_train_oh,\n",
    "    y_train_oh,\n",
    "    X_test_oh,\n",
    "    y_test_oh,\n",
    "    reduced_min\n",
    ")\n",
    "reg_results = test_model(\n",
    "    reg_model,\n",
    "    X_train_oh,\n",
    "    y_train_oh,\n",
    "    X_test_oh,\n",
    "    y_test_oh,\n",
    "    reg_min\n",
    ")\n",
    "drop_results = test_model(\n",
    "    drop_model,\n",
    "    X_train_oh,\n",
    "    y_train_oh,\n",
    "    X_test_oh,\n",
    "    y_test_oh,\n",
    "    drop_min\n",
    ")"
   ]
  },
  {
   "cell_type": "code",
   "execution_count": 31,
   "metadata": {},
   "outputs": [
    {
     "name": "stdout",
     "output_type": "stream",
     "text": [
      "Model: \"Dropout layers model\"\n",
      "_________________________________________________________________\n",
      "Layer (type)                 Output Shape              Param #   \n",
      "=================================================================\n",
      "dense_9 (Dense)              (None, 64)                6464      \n",
      "_________________________________________________________________\n",
      "dropout_1 (Dropout)          (None, 64)                0         \n",
      "_________________________________________________________________\n",
      "dense_10 (Dense)             (None, 64)                4160      \n",
      "_________________________________________________________________\n",
      "dropout_2 (Dropout)          (None, 64)                0         \n",
      "_________________________________________________________________\n",
      "dense_11 (Dense)             (None, 3)                 195       \n",
      "=================================================================\n",
      "Total params: 10,819\n",
      "Trainable params: 10,819\n",
      "Non-trainable params: 0\n",
      "_________________________________________________________________\n"
     ]
    }
   ],
   "source": [
    "drop_model.summary()\n",
    "# shows 2 layers and 2 dropouts"
   ]
  },
  {
   "cell_type": "code",
   "execution_count": 32,
   "metadata": {},
   "outputs": [],
   "source": [
    "# import sys\n",
    "# !conda install --yes --prefix {sys.prefix} pydotplus\n",
    "import pydot"
   ]
  },
  {
   "cell_type": "code",
   "execution_count": 33,
   "metadata": {},
   "outputs": [],
   "source": [
    "from keras.utils.vis_utils import plot_model"
   ]
  },
  {
   "cell_type": "code",
   "execution_count": 34,
   "metadata": {},
   "outputs": [
    {
     "data": {
      "image/png": "[encoded data removed]",
      "text/plain": [
       "<IPython.core.display.Image object>"
      ]
     },
     "execution_count": 34,
     "metadata": {},
     "output_type": "execute_result"
    }
   ],
   "source": [
    "plot_model(\n",
    "    drop_model,\n",
    "    to_file = 'model_plot.png',\n",
    "    show_shapes = True,\n",
    "    show_layer_names = True\n",
    ")"
   ]
  },
  {
   "cell_type": "code",
   "execution_count": 35,
   "metadata": {},
   "outputs": [
    {
     "data": {
      "text/html": [
       "<div>\n",
       "<style scoped>\n",
       "    .dataframe tbody tr th:only-of-type {\n",
       "        vertical-align: middle;\n",
       "    }\n",
       "\n",
       "    .dataframe tbody tr th {\n",
       "        vertical-align: top;\n",
       "    }\n",
       "\n",
       "    .dataframe thead th {\n",
       "        text-align: right;\n",
       "    }\n",
       "</style>\n",
       "<table border=\"1\" class=\"dataframe\">\n",
       "  <thead>\n",
       "    <tr style=\"text-align: right;\">\n",
       "      <th></th>\n",
       "      <th>text</th>\n",
       "      <th>airline_sentiment</th>\n",
       "    </tr>\n",
       "  </thead>\n",
       "  <tbody>\n",
       "    <tr>\n",
       "      <td>6072</td>\n",
       "      <td>Is chance get tickets Vegas stop? missed chan...</td>\n",
       "      <td>neutral</td>\n",
       "    </tr>\n",
       "    <tr>\n",
       "      <td>2082</td>\n",
       "      <td>I'm first time solo female traveller pretty s...</td>\n",
       "      <td>negative</td>\n",
       "    </tr>\n",
       "    <tr>\n",
       "      <td>1685</td>\n",
       "      <td>frustrating flying experience. One continuous...</td>\n",
       "      <td>negative</td>\n",
       "    </tr>\n",
       "    <tr>\n",
       "      <td>7364</td>\n",
       "      <td>WELL...my paid tickets NO assigned seats all....</td>\n",
       "      <td>negative</td>\n",
       "    </tr>\n",
       "    <tr>\n",
       "      <td>7462</td>\n",
       "      <td>waited hrs bags flight hrs</td>\n",
       "      <td>negative</td>\n",
       "    </tr>\n",
       "    <tr>\n",
       "      <td>4204</td>\n",
       "      <td>no, flight Cancelled Flightlations (one due w...</td>\n",
       "      <td>negative</td>\n",
       "    </tr>\n",
       "    <tr>\n",
       "      <td>5876</td>\n",
       "      <td>CEO Gary Kelly, \"You absolutely heroes!\" #Sou...</td>\n",
       "      <td>neutral</td>\n",
       "    </tr>\n",
       "    <tr>\n",
       "      <td>632</td>\n",
       "      <td>hard stay upset someone least TRY show remorse.</td>\n",
       "      <td>negative</td>\n",
       "    </tr>\n",
       "    <tr>\n",
       "      <td>4534</td>\n",
       "      <td>disappointed 'service' I've received. Checked...</td>\n",
       "      <td>negative</td>\n",
       "    </tr>\n",
       "    <tr>\n",
       "      <td>10976</td>\n",
       "      <td>will...sunday! Just days away</td>\n",
       "      <td>positive</td>\n",
       "    </tr>\n",
       "  </tbody>\n",
       "</table>\n",
       "</div>"
      ],
      "text/plain": [
       "                                                    text airline_sentiment\n",
       "6072    Is chance get tickets Vegas stop? missed chan...           neutral\n",
       "2082    I'm first time solo female traveller pretty s...          negative\n",
       "1685    frustrating flying experience. One continuous...          negative\n",
       "7364    WELL...my paid tickets NO assigned seats all....          negative\n",
       "7462                          waited hrs bags flight hrs          negative\n",
       "4204    no, flight Cancelled Flightlations (one due w...          negative\n",
       "5876    CEO Gary Kelly, \"You absolutely heroes!\" #Sou...           neutral\n",
       "632      hard stay upset someone least TRY show remorse.          negative\n",
       "4534    disappointed 'service' I've received. Checked...          negative\n",
       "10976                      will...sunday! Just days away          positive"
      ]
     },
     "execution_count": 35,
     "metadata": {},
     "output_type": "execute_result"
    }
   ],
   "source": [
    "df.head(10)"
   ]
  }
 ],
 "metadata": {
  "kernelspec": {
   "display_name": "Python 3",
   "language": "python",
   "name": "python3"
  },
  "language_info": {
   "codemirror_mode": {
    "name": "ipython",
    "version": 3
   },
   "file_extension": ".py",
   "mimetype": "text/x-python",
   "name": "python",
   "nbconvert_exporter": "python",
   "pygments_lexer": "ipython3",
   "version": "3.7.3"
  }
 },
 "nbformat": 4,
 "nbformat_minor": 2
}
